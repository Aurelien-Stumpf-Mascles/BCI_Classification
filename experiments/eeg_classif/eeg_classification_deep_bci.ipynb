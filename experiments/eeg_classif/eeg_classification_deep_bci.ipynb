{
 "cells": [
  {
   "cell_type": "code",
   "execution_count": 1,
   "metadata": {},
   "outputs": [],
   "source": [
    "import mne\n",
    "from mne.io import concatenate_raws, read_raw_edf\n",
    "import matplotlib.pyplot as plt\n",
    "import mne.viz\n",
    "import os\n",
    "import os.path as op\n",
    "from mne.preprocessing import (ICA, create_eog_epochs, create_ecg_epochs,\n",
    "                               corrmap)\n",
    "from mne.time_frequency import tfr_multitaper\n",
    "from mne.stats import permutation_cluster_1samp_test as pcluster_test\n",
    "from mne.datasets import fetch_fsaverage\n",
    "\n",
    "import torch\n",
    "from torcheeg.models import EEGNet\n",
    "from torcheeg.models import DGCNN\n",
    "from torcheeg import transforms\n",
    "\n",
    "import numpy as np\n",
    "import matplotlib.pyplot as plt\n",
    "import scipy.signal as signal\n",
    "import scipy as sc\n",
    "from matplotlib import cm\n",
    "import matplotlib.colors as colors"
   ]
  },
  {
   "cell_type": "code",
   "execution_count": 5,
   "metadata": {},
   "outputs": [],
   "source": [
    "import sys \n",
    "sys.path.append(\"/home/aurelien.stumpf/Development/BCI_Classification\")\n",
    "from eeg_project_package import dataset, models, training"
   ]
  },
  {
   "cell_type": "code",
   "execution_count": 1,
   "metadata": {},
   "outputs": [
    {
     "ename": "NameError",
     "evalue": "name 'dataset' is not defined",
     "output_type": "error",
     "traceback": [
      "\u001b[0;31m---------------------------------------------------------------------------\u001b[0m",
      "\u001b[0;31mNameError\u001b[0m                                 Traceback (most recent call last)",
      "Cell \u001b[0;32mIn[1], line 2\u001b[0m\n\u001b[1;32m      1\u001b[0m \u001b[38;5;28;01mimport\u001b[39;00m \u001b[38;5;21;01mimportlib\u001b[39;00m\n\u001b[0;32m----> 2\u001b[0m importlib\u001b[38;5;241m.\u001b[39mreload(\u001b[43mdataset\u001b[49m)\n\u001b[1;32m      3\u001b[0m importlib\u001b[38;5;241m.\u001b[39mreload(training)\n",
      "\u001b[0;31mNameError\u001b[0m: name 'dataset' is not defined"
     ]
    }
   ],
   "source": [
    "import importlib\n",
    "importlib.reload(dataset)\n",
    "importlib.reload(training)"
   ]
  },
  {
   "cell_type": "code",
   "execution_count": 7,
   "metadata": {},
   "outputs": [
    {
     "ename": "FileNotFoundError",
     "evalue": "[Errno 2] No such file or directory: '/network/lustre/iss02/aramis/projects/cracknetworks/sub-14/ses-03/EEG/Train-[2022.05.05-15.00.03].edf'",
     "output_type": "error",
     "traceback": [
      "\u001b[0;31m---------------------------------------------------------------------------\u001b[0m",
      "\u001b[0;31mFileNotFoundError\u001b[0m                         Traceback (most recent call last)",
      "Cell \u001b[0;32mIn[7], line 10\u001b[0m\n\u001b[1;32m      8\u001b[0m input_fname3 \u001b[38;5;241m=\u001b[39m  \u001b[38;5;124m\"\u001b[39m\u001b[38;5;124m/network/lustre/iss02/aramis/projects/cracknetworks/sub-14/ses-03/EEG/Train-[2022.05.05-15.18.26].edf\u001b[39m\u001b[38;5;124m\"\u001b[39m\n\u001b[1;32m      9\u001b[0m \u001b[38;5;66;03m#Read raw data files where each file contains a run\u001b[39;00m\n\u001b[0;32m---> 10\u001b[0m raws \u001b[38;5;241m=\u001b[39m \u001b[43mread_raw_edf\u001b[49m\u001b[43m(\u001b[49m\u001b[43minput_fname1\u001b[49m\u001b[43m,\u001b[49m\u001b[43m \u001b[49m\u001b[43mpreload\u001b[49m\u001b[38;5;241;43m=\u001b[39;49m\u001b[38;5;28;43;01mTrue\u001b[39;49;00m\u001b[43m)\u001b[49m\n\u001b[1;32m     11\u001b[0m \u001b[38;5;66;03m#Combine all loaded runs\u001b[39;00m\n\u001b[1;32m     12\u001b[0m \u001b[38;5;66;03m#raw_obj = concatenate_raws(raws)\u001b[39;00m\n\u001b[1;32m     13\u001b[0m raw_obj \u001b[38;5;241m=\u001b[39m raws\n",
      "File \u001b[0;32m~/Development/BCI_Classification/eeg_env/lib/python3.8/site-packages/mne/io/edf/edf.py:1675\u001b[0m, in \u001b[0;36mread_raw_edf\u001b[0;34m(input_fname, eog, misc, stim_channel, exclude, infer_types, include, preload, units, encoding, verbose)\u001b[0m\n\u001b[1;32m   1673\u001b[0m \u001b[38;5;28;01mif\u001b[39;00m ext \u001b[38;5;241m!=\u001b[39m \u001b[38;5;124m\"\u001b[39m\u001b[38;5;124medf\u001b[39m\u001b[38;5;124m\"\u001b[39m:\n\u001b[1;32m   1674\u001b[0m     \u001b[38;5;28;01mraise\u001b[39;00m \u001b[38;5;167;01mNotImplementedError\u001b[39;00m(\u001b[38;5;124mf\u001b[39m\u001b[38;5;124m\"\u001b[39m\u001b[38;5;124mOnly EDF files are supported, got \u001b[39m\u001b[38;5;132;01m{\u001b[39;00mext\u001b[38;5;132;01m}\u001b[39;00m\u001b[38;5;124m.\u001b[39m\u001b[38;5;124m\"\u001b[39m)\n\u001b[0;32m-> 1675\u001b[0m \u001b[38;5;28;01mreturn\u001b[39;00m \u001b[43mRawEDF\u001b[49m\u001b[43m(\u001b[49m\n\u001b[1;32m   1676\u001b[0m \u001b[43m    \u001b[49m\u001b[43minput_fname\u001b[49m\u001b[38;5;241;43m=\u001b[39;49m\u001b[43minput_fname\u001b[49m\u001b[43m,\u001b[49m\n\u001b[1;32m   1677\u001b[0m \u001b[43m    \u001b[49m\u001b[43meog\u001b[49m\u001b[38;5;241;43m=\u001b[39;49m\u001b[43meog\u001b[49m\u001b[43m,\u001b[49m\n\u001b[1;32m   1678\u001b[0m \u001b[43m    \u001b[49m\u001b[43mmisc\u001b[49m\u001b[38;5;241;43m=\u001b[39;49m\u001b[43mmisc\u001b[49m\u001b[43m,\u001b[49m\n\u001b[1;32m   1679\u001b[0m \u001b[43m    \u001b[49m\u001b[43mstim_channel\u001b[49m\u001b[38;5;241;43m=\u001b[39;49m\u001b[43mstim_channel\u001b[49m\u001b[43m,\u001b[49m\n\u001b[1;32m   1680\u001b[0m \u001b[43m    \u001b[49m\u001b[43mexclude\u001b[49m\u001b[38;5;241;43m=\u001b[39;49m\u001b[43mexclude\u001b[49m\u001b[43m,\u001b[49m\n\u001b[1;32m   1681\u001b[0m \u001b[43m    \u001b[49m\u001b[43minfer_types\u001b[49m\u001b[38;5;241;43m=\u001b[39;49m\u001b[43minfer_types\u001b[49m\u001b[43m,\u001b[49m\n\u001b[1;32m   1682\u001b[0m \u001b[43m    \u001b[49m\u001b[43mpreload\u001b[49m\u001b[38;5;241;43m=\u001b[39;49m\u001b[43mpreload\u001b[49m\u001b[43m,\u001b[49m\n\u001b[1;32m   1683\u001b[0m \u001b[43m    \u001b[49m\u001b[43minclude\u001b[49m\u001b[38;5;241;43m=\u001b[39;49m\u001b[43minclude\u001b[49m\u001b[43m,\u001b[49m\n\u001b[1;32m   1684\u001b[0m \u001b[43m    \u001b[49m\u001b[43munits\u001b[49m\u001b[38;5;241;43m=\u001b[39;49m\u001b[43munits\u001b[49m\u001b[43m,\u001b[49m\n\u001b[1;32m   1685\u001b[0m \u001b[43m    \u001b[49m\u001b[43mencoding\u001b[49m\u001b[38;5;241;43m=\u001b[39;49m\u001b[43mencoding\u001b[49m\u001b[43m,\u001b[49m\n\u001b[1;32m   1686\u001b[0m \u001b[43m    \u001b[49m\u001b[43mverbose\u001b[49m\u001b[38;5;241;43m=\u001b[39;49m\u001b[43mverbose\u001b[49m\u001b[43m,\u001b[49m\n\u001b[1;32m   1687\u001b[0m \u001b[43m\u001b[49m\u001b[43m)\u001b[49m\n",
      "File \u001b[0;32m<decorator-gen-179>:12\u001b[0m, in \u001b[0;36m__init__\u001b[0;34m(self, input_fname, eog, misc, stim_channel, exclude, infer_types, preload, include, units, encoding, verbose)\u001b[0m\n",
      "File \u001b[0;32m~/Development/BCI_Classification/eeg_env/lib/python3.8/site-packages/mne/io/edf/edf.py:155\u001b[0m, in \u001b[0;36mRawEDF.__init__\u001b[0;34m(self, input_fname, eog, misc, stim_channel, exclude, infer_types, preload, include, units, encoding, verbose)\u001b[0m\n\u001b[1;32m    153\u001b[0m logger\u001b[38;5;241m.\u001b[39minfo(\u001b[38;5;124m\"\u001b[39m\u001b[38;5;124mExtracting EDF parameters from \u001b[39m\u001b[38;5;132;01m{}\u001b[39;00m\u001b[38;5;124m...\u001b[39m\u001b[38;5;124m\"\u001b[39m\u001b[38;5;241m.\u001b[39mformat(input_fname))\n\u001b[1;32m    154\u001b[0m input_fname \u001b[38;5;241m=\u001b[39m os\u001b[38;5;241m.\u001b[39mpath\u001b[38;5;241m.\u001b[39mabspath(input_fname)\n\u001b[0;32m--> 155\u001b[0m info, edf_info, orig_units \u001b[38;5;241m=\u001b[39m \u001b[43m_get_info\u001b[49m\u001b[43m(\u001b[49m\n\u001b[1;32m    156\u001b[0m \u001b[43m    \u001b[49m\u001b[43minput_fname\u001b[49m\u001b[43m,\u001b[49m\u001b[43m \u001b[49m\u001b[43mstim_channel\u001b[49m\u001b[43m,\u001b[49m\u001b[43m \u001b[49m\u001b[43meog\u001b[49m\u001b[43m,\u001b[49m\u001b[43m \u001b[49m\u001b[43mmisc\u001b[49m\u001b[43m,\u001b[49m\u001b[43m \u001b[49m\u001b[43mexclude\u001b[49m\u001b[43m,\u001b[49m\u001b[43m \u001b[49m\u001b[43minfer_types\u001b[49m\u001b[43m,\u001b[49m\u001b[43m \u001b[49m\u001b[43mpreload\u001b[49m\u001b[43m,\u001b[49m\u001b[43m \u001b[49m\u001b[43minclude\u001b[49m\n\u001b[1;32m    157\u001b[0m \u001b[43m\u001b[49m\u001b[43m)\u001b[49m\n\u001b[1;32m    158\u001b[0m logger\u001b[38;5;241m.\u001b[39minfo(\u001b[38;5;124m\"\u001b[39m\u001b[38;5;124mCreating raw.info structure...\u001b[39m\u001b[38;5;124m\"\u001b[39m)\n\u001b[1;32m    160\u001b[0m _validate_type(units, (\u001b[38;5;28mstr\u001b[39m, \u001b[38;5;28;01mNone\u001b[39;00m, \u001b[38;5;28mdict\u001b[39m), \u001b[38;5;124m\"\u001b[39m\u001b[38;5;124munits\u001b[39m\u001b[38;5;124m\"\u001b[39m)\n",
      "File \u001b[0;32m~/Development/BCI_Classification/eeg_env/lib/python3.8/site-packages/mne/io/edf/edf.py:521\u001b[0m, in \u001b[0;36m_get_info\u001b[0;34m(fname, stim_channel, eog, misc, exclude, infer_types, preload, include)\u001b[0m\n\u001b[1;32m    518\u001b[0m eog \u001b[38;5;241m=\u001b[39m eog \u001b[38;5;28;01mif\u001b[39;00m eog \u001b[38;5;129;01mis\u001b[39;00m \u001b[38;5;129;01mnot\u001b[39;00m \u001b[38;5;28;01mNone\u001b[39;00m \u001b[38;5;28;01melse\u001b[39;00m []\n\u001b[1;32m    519\u001b[0m misc \u001b[38;5;241m=\u001b[39m misc \u001b[38;5;28;01mif\u001b[39;00m misc \u001b[38;5;129;01mis\u001b[39;00m \u001b[38;5;129;01mnot\u001b[39;00m \u001b[38;5;28;01mNone\u001b[39;00m \u001b[38;5;28;01melse\u001b[39;00m []\n\u001b[0;32m--> 521\u001b[0m edf_info, orig_units \u001b[38;5;241m=\u001b[39m \u001b[43m_read_header\u001b[49m\u001b[43m(\u001b[49m\u001b[43mfname\u001b[49m\u001b[43m,\u001b[49m\u001b[43m \u001b[49m\u001b[43mexclude\u001b[49m\u001b[43m,\u001b[49m\u001b[43m \u001b[49m\u001b[43minfer_types\u001b[49m\u001b[43m,\u001b[49m\u001b[43m \u001b[49m\u001b[43minclude\u001b[49m\u001b[43m)\u001b[49m\n\u001b[1;32m    523\u001b[0m \u001b[38;5;66;03m# XXX: `tal_ch_names` to pass to `_check_stim_channel` should be computed\u001b[39;00m\n\u001b[1;32m    524\u001b[0m \u001b[38;5;66;03m#      from `edf_info['ch_names']` and `edf_info['tal_idx']` but 'tal_idx'\u001b[39;00m\n\u001b[1;32m    525\u001b[0m \u001b[38;5;66;03m#      contains stim channels that are not TAL.\u001b[39;00m\n\u001b[1;32m    526\u001b[0m stim_channel_idxs, _ \u001b[38;5;241m=\u001b[39m _check_stim_channel(stim_channel, edf_info[\u001b[38;5;124m\"\u001b[39m\u001b[38;5;124mch_names\u001b[39m\u001b[38;5;124m\"\u001b[39m])\n",
      "File \u001b[0;32m~/Development/BCI_Classification/eeg_env/lib/python3.8/site-packages/mne/io/edf/edf.py:505\u001b[0m, in \u001b[0;36m_read_header\u001b[0;34m(fname, exclude, infer_types, include)\u001b[0m\n\u001b[1;32m    503\u001b[0m logger\u001b[38;5;241m.\u001b[39minfo(\u001b[38;5;124m\"\u001b[39m\u001b[38;5;132;01m%s\u001b[39;00m\u001b[38;5;124m file detected\u001b[39m\u001b[38;5;124m\"\u001b[39m \u001b[38;5;241m%\u001b[39m ext\u001b[38;5;241m.\u001b[39mupper())\n\u001b[1;32m    504\u001b[0m \u001b[38;5;28;01mif\u001b[39;00m ext \u001b[38;5;129;01min\u001b[39;00m (\u001b[38;5;124m\"\u001b[39m\u001b[38;5;124mbdf\u001b[39m\u001b[38;5;124m\"\u001b[39m, \u001b[38;5;124m\"\u001b[39m\u001b[38;5;124medf\u001b[39m\u001b[38;5;124m\"\u001b[39m):\n\u001b[0;32m--> 505\u001b[0m     \u001b[38;5;28;01mreturn\u001b[39;00m \u001b[43m_read_edf_header\u001b[49m\u001b[43m(\u001b[49m\u001b[43mfname\u001b[49m\u001b[43m,\u001b[49m\u001b[43m \u001b[49m\u001b[43mexclude\u001b[49m\u001b[43m,\u001b[49m\u001b[43m \u001b[49m\u001b[43minfer_types\u001b[49m\u001b[43m,\u001b[49m\u001b[43m \u001b[49m\u001b[43minclude\u001b[49m\u001b[43m)\u001b[49m\n\u001b[1;32m    506\u001b[0m \u001b[38;5;28;01melif\u001b[39;00m ext \u001b[38;5;241m==\u001b[39m \u001b[38;5;124m\"\u001b[39m\u001b[38;5;124mgdf\u001b[39m\u001b[38;5;124m\"\u001b[39m:\n\u001b[1;32m    507\u001b[0m     \u001b[38;5;28;01mreturn\u001b[39;00m _read_gdf_header(fname, exclude, include), \u001b[38;5;28;01mNone\u001b[39;00m\n",
      "File \u001b[0;32m~/Development/BCI_Classification/eeg_env/lib/python3.8/site-packages/mne/io/edf/edf.py:796\u001b[0m, in \u001b[0;36m_read_edf_header\u001b[0;34m(fname, exclude, infer_types, include)\u001b[0m\n\u001b[1;32m    793\u001b[0m \u001b[38;5;250m\u001b[39m\u001b[38;5;124;03m\"\"\"Read header information from EDF+ or BDF file.\"\"\"\u001b[39;00m\n\u001b[1;32m    794\u001b[0m edf_info \u001b[38;5;241m=\u001b[39m {\u001b[38;5;124m\"\u001b[39m\u001b[38;5;124mevents\u001b[39m\u001b[38;5;124m\"\u001b[39m: []}\n\u001b[0;32m--> 796\u001b[0m \u001b[38;5;28;01mwith\u001b[39;00m \u001b[38;5;28;43mopen\u001b[39;49m\u001b[43m(\u001b[49m\u001b[43mfname\u001b[49m\u001b[43m,\u001b[49m\u001b[43m \u001b[49m\u001b[38;5;124;43m\"\u001b[39;49m\u001b[38;5;124;43mrb\u001b[39;49m\u001b[38;5;124;43m\"\u001b[39;49m\u001b[43m)\u001b[49m \u001b[38;5;28;01mas\u001b[39;00m fid:\n\u001b[1;32m    797\u001b[0m     fid\u001b[38;5;241m.\u001b[39mread(\u001b[38;5;241m8\u001b[39m)  \u001b[38;5;66;03m# version (unused here)\u001b[39;00m\n\u001b[1;32m    799\u001b[0m     \u001b[38;5;66;03m# patient ID\u001b[39;00m\n",
      "\u001b[0;31mFileNotFoundError\u001b[0m: [Errno 2] No such file or directory: '/network/lustre/iss02/aramis/projects/cracknetworks/sub-14/ses-03/EEG/Train-[2022.05.05-15.00.03].edf'"
     ]
    }
   ],
   "source": [
    "#Define the parameters\n",
    "subject = 1  # use data from subject 1\n",
    "runs = [6, 10, 14]  # use only hand and feet motor imagery runs\n",
    "\n",
    "#Get data and locate in to given path\n",
    "input_fname1 =  \"/network/lustre/iss02/aramis/projects/cracknetworks/sub-14/ses-03/EEG/Train-[2022.05.05-15.00.03].edf\"\n",
    "input_fname2 =  \"/network/lustre/iss02/aramis/projects/cracknetworks/sub-14/ses-03/EEG/Train-[2022.05.05-15.09.24].edf\"\n",
    "input_fname3 =  \"/network/lustre/iss02/aramis/projects/cracknetworks/sub-14/ses-03/EEG/Train-[2022.05.05-15.18.26].edf\"\n",
    "#Read raw data files where each file contains a run\n",
    "raws = read_raw_edf(input_fname1, preload=True)\n",
    "#Combine all loaded runs\n",
    "#raw_obj = concatenate_raws(raws)\n",
    "raw_obj = raws\n",
    "\n",
    "raw_data = raw_obj.get_data()\n",
    "print(\"Number of channels: \", str(len(raw_data)))\n",
    "print(\"Number of samples: \", str(len(raw_data)))\n",
    "\n",
    "#Plot epochs & PSD\n",
    "raw_obj.plot(duration=120, n_channels=15, scalings=dict(eeg=420e-6))\n",
    "raw_obj.plot_psd(average=True)"
   ]
  },
  {
   "cell_type": "code",
   "execution_count": 4,
   "metadata": {},
   "outputs": [],
   "source": [
    "total_events, dict = mne.events_from_annotations(raw_obj)"
   ]
  },
  {
   "cell_type": "markdown",
   "metadata": {},
   "source": [
    "## Time Analysis"
   ]
  },
  {
   "cell_type": "code",
   "execution_count": 19,
   "metadata": {},
   "outputs": [
    {
     "name": "stderr",
     "output_type": "stream",
     "text": [
      "/home/aurelien.stumpf/Code/eeg_project_package/dataset.py:8: RuntimeWarning: Invalid patient information \n",
      "  raw_Training_EEG =  mne.io.read_raw_edf(filepath, preload=True, verbose=False)\n",
      "/home/aurelien.stumpf/Code/eeg_project_package/dataset.py:8: RuntimeWarning: Invalid patient information \n",
      "  raw_Training_EEG =  mne.io.read_raw_edf(filepath, preload=True, verbose=False)\n",
      "/home/aurelien.stumpf/Code/eeg_project_package/dataset.py:8: RuntimeWarning: Invalid patient information \n",
      "  raw_Training_EEG =  mne.io.read_raw_edf(filepath, preload=True, verbose=False)\n",
      "/home/aurelien.stumpf/Code/eeg_project_package/dataset.py:8: RuntimeWarning: Invalid patient information \n",
      "  raw_Training_EEG =  mne.io.read_raw_edf(filepath, preload=True, verbose=False)\n",
      "/home/aurelien.stumpf/Code/eeg_project_package/dataset.py:8: RuntimeWarning: Invalid patient information \n",
      "  raw_Training_EEG =  mne.io.read_raw_edf(filepath, preload=True, verbose=False)\n",
      "/home/aurelien.stumpf/Code/eeg_project_package/dataset.py:8: RuntimeWarning: Invalid patient information \n",
      "  raw_Training_EEG =  mne.io.read_raw_edf(filepath, preload=True, verbose=False)\n",
      "/home/aurelien.stumpf/Code/eeg_project_package/dataset.py:8: RuntimeWarning: Invalid patient information \n",
      "  raw_Training_EEG =  mne.io.read_raw_edf(filepath, preload=True, verbose=False)\n",
      "/home/aurelien.stumpf/Code/eeg_project_package/dataset.py:8: RuntimeWarning: Invalid patient information \n",
      "  raw_Training_EEG =  mne.io.read_raw_edf(filepath, preload=True, verbose=False)\n",
      "/home/aurelien.stumpf/Code/eeg_project_package/dataset.py:8: RuntimeWarning: Invalid patient information \n",
      "  raw_Training_EEG =  mne.io.read_raw_edf(filepath, preload=True, verbose=False)\n",
      "/home/aurelien.stumpf/Code/eeg_project_package/dataset.py:8: RuntimeWarning: Invalid patient information \n",
      "  raw_Training_EEG =  mne.io.read_raw_edf(filepath, preload=True, verbose=False)\n",
      "/home/aurelien.stumpf/Code/eeg_project_package/dataset.py:8: RuntimeWarning: Invalid patient information \n",
      "  raw_Training_EEG =  mne.io.read_raw_edf(filepath, preload=True, verbose=False)\n",
      "/home/aurelien.stumpf/Code/eeg_project_package/dataset.py:8: RuntimeWarning: Invalid patient information \n",
      "  raw_Training_EEG =  mne.io.read_raw_edf(filepath, preload=True, verbose=False)\n",
      "/home/aurelien.stumpf/Code/eeg_project_package/dataset.py:8: RuntimeWarning: Invalid patient information \n",
      "  raw_Training_EEG =  mne.io.read_raw_edf(filepath, preload=True, verbose=False)\n",
      "/home/aurelien.stumpf/Code/eeg_project_package/dataset.py:8: RuntimeWarning: Invalid patient information \n",
      "  raw_Training_EEG =  mne.io.read_raw_edf(filepath, preload=True, verbose=False)\n",
      "/home/aurelien.stumpf/Code/eeg_project_package/dataset.py:8: RuntimeWarning: Invalid patient information \n",
      "  raw_Training_EEG =  mne.io.read_raw_edf(filepath, preload=True, verbose=False)\n",
      "/home/aurelien.stumpf/Code/eeg_project_package/dataset.py:8: RuntimeWarning: Invalid patient information \n",
      "  raw_Training_EEG =  mne.io.read_raw_edf(filepath, preload=True, verbose=False)\n",
      "/home/aurelien.stumpf/Code/eeg_project_package/dataset.py:8: RuntimeWarning: Invalid patient information \n",
      "  raw_Training_EEG =  mne.io.read_raw_edf(filepath, preload=True, verbose=False)\n",
      "/home/aurelien.stumpf/Code/eeg_project_package/dataset.py:8: RuntimeWarning: Invalid patient information \n",
      "  raw_Training_EEG =  mne.io.read_raw_edf(filepath, preload=True, verbose=False)\n",
      "/home/aurelien.stumpf/Code/eeg_project_package/dataset.py:8: RuntimeWarning: Invalid patient information \n",
      "  raw_Training_EEG =  mne.io.read_raw_edf(filepath, preload=True, verbose=False)\n",
      "/home/aurelien.stumpf/Code/eeg_project_package/dataset.py:8: RuntimeWarning: Invalid patient information \n",
      "  raw_Training_EEG =  mne.io.read_raw_edf(filepath, preload=True, verbose=False)\n"
     ]
    },
    {
     "name": "stdout",
     "output_type": "stream",
     "text": [
      "Error in file:  /network/lustre/iss02/aramis/projects/cracknetworks/sub-14/ses-02/EEG/Test-[2022.04.28-16.18.42].edf\n",
      "[Errno 5] Input/output error: '/network/lustre/iss02/aramis/projects/cracknetworks/sub-14/ses-02/EEG/Test-[2022.04.28-16.18.42].edf'\n"
     ]
    },
    {
     "name": "stderr",
     "output_type": "stream",
     "text": [
      "/home/aurelien.stumpf/Code/eeg_project_package/dataset.py:8: RuntimeWarning: Invalid patient information \n",
      "  raw_Training_EEG =  mne.io.read_raw_edf(filepath, preload=True, verbose=False)\n",
      "/home/aurelien.stumpf/Code/eeg_project_package/dataset.py:8: RuntimeWarning: Invalid patient information \n",
      "  raw_Training_EEG =  mne.io.read_raw_edf(filepath, preload=True, verbose=False)\n",
      "/home/aurelien.stumpf/Code/eeg_project_package/dataset.py:8: RuntimeWarning: Invalid patient information \n",
      "  raw_Training_EEG =  mne.io.read_raw_edf(filepath, preload=True, verbose=False)\n",
      "/home/aurelien.stumpf/Code/eeg_project_package/dataset.py:8: RuntimeWarning: Invalid patient information \n",
      "  raw_Training_EEG =  mne.io.read_raw_edf(filepath, preload=True, verbose=False)\n",
      "/home/aurelien.stumpf/Code/eeg_project_package/dataset.py:8: RuntimeWarning: Invalid patient information \n",
      "  raw_Training_EEG =  mne.io.read_raw_edf(filepath, preload=True, verbose=False)\n",
      "/home/aurelien.stumpf/Code/eeg_project_package/dataset.py:8: RuntimeWarning: Invalid patient information \n",
      "  raw_Training_EEG =  mne.io.read_raw_edf(filepath, preload=True, verbose=False)\n",
      "/home/aurelien.stumpf/Code/eeg_project_package/dataset.py:8: RuntimeWarning: Invalid patient information \n",
      "  raw_Training_EEG =  mne.io.read_raw_edf(filepath, preload=True, verbose=False)\n",
      "/home/aurelien.stumpf/Code/eeg_project_package/dataset.py:8: RuntimeWarning: Invalid patient information \n",
      "  raw_Training_EEG =  mne.io.read_raw_edf(filepath, preload=True, verbose=False)\n",
      "/home/aurelien.stumpf/Code/eeg_project_package/dataset.py:8: RuntimeWarning: Invalid patient information \n",
      "  raw_Training_EEG =  mne.io.read_raw_edf(filepath, preload=True, verbose=False)\n",
      "/home/aurelien.stumpf/Code/eeg_project_package/dataset.py:8: RuntimeWarning: Invalid patient information \n",
      "  raw_Training_EEG =  mne.io.read_raw_edf(filepath, preload=True, verbose=False)\n",
      "/home/aurelien.stumpf/Code/eeg_project_package/dataset.py:8: RuntimeWarning: Invalid patient information \n",
      "  raw_Training_EEG =  mne.io.read_raw_edf(filepath, preload=True, verbose=False)\n",
      "/home/aurelien.stumpf/Code/eeg_project_package/dataset.py:8: RuntimeWarning: Invalid patient information \n",
      "  raw_Training_EEG =  mne.io.read_raw_edf(filepath, preload=True, verbose=False)\n",
      "/home/aurelien.stumpf/Code/eeg_project_package/dataset.py:8: RuntimeWarning: Invalid patient information \n",
      "  raw_Training_EEG =  mne.io.read_raw_edf(filepath, preload=True, verbose=False)\n",
      "/home/aurelien.stumpf/Code/eeg_project_package/dataset.py:8: RuntimeWarning: Invalid patient information \n",
      "  raw_Training_EEG =  mne.io.read_raw_edf(filepath, preload=True, verbose=False)\n",
      "/home/aurelien.stumpf/Code/eeg_project_package/dataset.py:8: RuntimeWarning: Invalid patient information \n",
      "  raw_Training_EEG =  mne.io.read_raw_edf(filepath, preload=True, verbose=False)\n",
      "/home/aurelien.stumpf/Code/eeg_project_package/dataset.py:8: RuntimeWarning: Invalid patient information \n",
      "  raw_Training_EEG =  mne.io.read_raw_edf(filepath, preload=True, verbose=False)\n",
      "/home/aurelien.stumpf/Code/eeg_project_package/dataset.py:8: RuntimeWarning: Invalid patient information \n",
      "  raw_Training_EEG =  mne.io.read_raw_edf(filepath, preload=True, verbose=False)\n",
      "/home/aurelien.stumpf/Code/eeg_project_package/dataset.py:8: RuntimeWarning: Invalid patient information \n",
      "  raw_Training_EEG =  mne.io.read_raw_edf(filepath, preload=True, verbose=False)\n",
      "/home/aurelien.stumpf/Code/eeg_project_package/dataset.py:8: RuntimeWarning: Invalid patient information \n",
      "  raw_Training_EEG =  mne.io.read_raw_edf(filepath, preload=True, verbose=False)\n",
      "/home/aurelien.stumpf/Code/eeg_project_package/dataset.py:8: RuntimeWarning: Invalid patient information \n",
      "  raw_Training_EEG =  mne.io.read_raw_edf(filepath, preload=True, verbose=False)\n",
      "/home/aurelien.stumpf/Code/eeg_project_package/dataset.py:8: RuntimeWarning: Invalid patient information \n",
      "  raw_Training_EEG =  mne.io.read_raw_edf(filepath, preload=True, verbose=False)\n",
      "/home/aurelien.stumpf/Code/eeg_project_package/dataset.py:8: RuntimeWarning: Invalid patient information \n",
      "  raw_Training_EEG =  mne.io.read_raw_edf(filepath, preload=True, verbose=False)\n",
      "/home/aurelien.stumpf/Code/eeg_project_package/dataset.py:8: RuntimeWarning: Invalid patient information \n",
      "  raw_Training_EEG =  mne.io.read_raw_edf(filepath, preload=True, verbose=False)\n",
      "/home/aurelien.stumpf/Code/eeg_project_package/dataset.py:8: RuntimeWarning: Invalid patient information \n",
      "  raw_Training_EEG =  mne.io.read_raw_edf(filepath, preload=True, verbose=False)\n",
      "/home/aurelien.stumpf/Code/eeg_project_package/dataset.py:8: RuntimeWarning: Invalid patient information \n",
      "  raw_Training_EEG =  mne.io.read_raw_edf(filepath, preload=True, verbose=False)\n",
      "/home/aurelien.stumpf/Code/eeg_project_package/dataset.py:8: RuntimeWarning: Invalid patient information \n",
      "  raw_Training_EEG =  mne.io.read_raw_edf(filepath, preload=True, verbose=False)\n"
     ]
    }
   ],
   "source": [
    "list_name_channels = [\"CP1\",\"CP3\",\"CP5\",\"C1\",\"C3\",\"C5\",\"C2\",\"CP2\",\"Cz\",\"FCz\",\"C4\",\"CP4\"]\n",
    "ch_names = raw_obj.info['ch_names']\n",
    "list_idx_channels = [ch_names.index(name) for name in list_name_channels]\n",
    "#list_idx_channels = list(range(0, 64))\n",
    "\n",
    "task_type = \"imaginary_left/right\"\n",
    "folder_path = \"/network/lustre/iss02/aramis/projects/cracknetworks/\"\n",
    "\n",
    "num_subjects = [14]\n",
    "num_train_sessions = [1,2]\n",
    "num_test_sessions = [3]\n",
    "num_runs = []\n",
    "list_labels = [5,6]\n",
    "\n",
    "torch_trainset = dataset.EEG_Time_Dataset_Multi_Subject(folder_path, num_subjects, num_train_sessions, num_runs, list_idx_channels, list_labels, data=\"bci\")\n",
    "torch_testset = dataset.EEG_Time_Dataset_Multi_Subject(folder_path, num_subjects, num_test_sessions, num_runs, list_idx_channels, list_labels, data=\"bci\")\n",
    "trainloader = torch.utils.data.DataLoader(torch_trainset, batch_size=16, shuffle=True, num_workers=2)\n",
    "testloader = torch.utils.data.DataLoader(torch_testset, batch_size=16, shuffle=True, num_workers=2)"
   ]
  },
  {
   "cell_type": "code",
   "execution_count": 23,
   "metadata": {},
   "outputs": [
    {
     "name": "stderr",
     "output_type": "stream",
     "text": [
      "Epoch 0: 100%|██████████| 2/2 [00:00<00:00, 11.87batch/s, accuracy=0.533, loss=0.0808]"
     ]
    },
    {
     "name": "stdout",
     "output_type": "stream",
     "text": [
      "Epoch 0\n",
      "lr:  0.009300000000000001\n",
      "-------------------------\n"
     ]
    },
    {
     "name": "stderr",
     "output_type": "stream",
     "text": [
      "\n"
     ]
    },
    {
     "name": "stdout",
     "output_type": "stream",
     "text": [
      "Train set: Avg. loss: 0.0830, Balanced Accuracy: 0.03333333507180214 (3%)\n",
      "Test set: Avg. loss: 0.1229, Balanced Accuracy: 0.02083333395421505 (2%)\n",
      "-------------------------\n"
     ]
    },
    {
     "name": "stderr",
     "output_type": "stream",
     "text": [
      "Epoch 1: 100%|██████████| 2/2 [00:00<00:00, 12.83batch/s, accuracy=0.6, loss=0.0567]\n",
      "Epoch 2: 100%|██████████| 2/2 [00:00<00:00, 14.45batch/s, accuracy=0.633, loss=0.0594]\n",
      "Epoch 3: 100%|██████████| 2/2 [00:00<00:00, 12.59batch/s, accuracy=0.5, loss=0.045]\n",
      "Epoch 4: 100%|██████████| 2/2 [00:00<00:00, 12.87batch/s, accuracy=0.633, loss=0.0459]\n",
      "Epoch 5: 100%|██████████| 2/2 [00:00<00:00, 13.86batch/s, accuracy=0.8, loss=0.0353]\n",
      "Epoch 6: 100%|██████████| 2/2 [00:00<00:00, 13.66batch/s, accuracy=0.767, loss=0.0354]\n",
      "Epoch 7: 100%|██████████| 2/2 [00:00<00:00, 12.45batch/s, accuracy=0.7, loss=0.038]\n",
      "Epoch 8: 100%|██████████| 2/2 [00:00<00:00, 12.54batch/s, accuracy=0.833, loss=0.0173]\n",
      "Epoch 9: 100%|██████████| 2/2 [00:00<00:00, 12.07batch/s, accuracy=0.933, loss=0.0123]\n",
      "Epoch 10: 100%|██████████| 2/2 [00:00<00:00, 13.11batch/s, accuracy=0.933, loss=0.0106]\n"
     ]
    },
    {
     "name": "stdout",
     "output_type": "stream",
     "text": [
      "Epoch 10\n",
      "lr:  0.004501035456767429\n",
      "-------------------------\n",
      "Train set: Avg. loss: 0.0093, Balanced Accuracy: 0.08055555820465088 (8%)\n",
      "Test set: Avg. loss: 0.1336, Balanced Accuracy: 0.0260416679084301 (3%)\n",
      "-------------------------\n"
     ]
    },
    {
     "name": "stderr",
     "output_type": "stream",
     "text": [
      "Epoch 11: 100%|██████████| 2/2 [00:00<00:00, 13.81batch/s, accuracy=0.967, loss=0.0121]\n",
      "Epoch 12: 100%|██████████| 2/2 [00:00<00:00, 13.27batch/s, accuracy=0.967, loss=0.00801]\n",
      "Epoch 13: 100%|██████████| 2/2 [00:00<00:00, 13.57batch/s, accuracy=0.967, loss=0.00583]\n",
      "Epoch 14: 100%|██████████| 2/2 [00:00<00:00, 13.10batch/s, accuracy=1, loss=0.00252]\n",
      "Epoch 15: 100%|██████████| 2/2 [00:00<00:00, 12.44batch/s, accuracy=1, loss=0.00225]\n",
      "Epoch 16: 100%|██████████| 2/2 [00:00<00:00, 11.43batch/s, accuracy=1, loss=0.00188]\n",
      "Epoch 17: 100%|██████████| 2/2 [00:00<00:00, 11.98batch/s, accuracy=1, loss=0.00115] \n",
      "Epoch 18: 100%|██████████| 2/2 [00:00<00:00, 13.14batch/s, accuracy=1, loss=0.000746]\n",
      "Epoch 19: 100%|██████████| 2/2 [00:00<00:00, 12.95batch/s, accuracy=1, loss=0.000564]\n",
      "Epoch 20: 100%|██████████| 2/2 [00:00<00:00, 13.43batch/s, accuracy=1, loss=0.000587]"
     ]
    },
    {
     "name": "stdout",
     "output_type": "stream",
     "text": [
      "Epoch 20\n",
      "lr:  0.002178421525062105\n",
      "-------------------------\n"
     ]
    },
    {
     "name": "stderr",
     "output_type": "stream",
     "text": [
      "\n"
     ]
    },
    {
     "name": "stdout",
     "output_type": "stream",
     "text": [
      "Train set: Avg. loss: 0.0005, Balanced Accuracy: 0.0833333358168602 (8%)\n",
      "Test set: Avg. loss: 0.1960, Balanced Accuracy: 0.03125 (3%)\n",
      "-------------------------\n"
     ]
    },
    {
     "name": "stderr",
     "output_type": "stream",
     "text": [
      "Epoch 21: 100%|██████████| 2/2 [00:00<00:00, 13.42batch/s, accuracy=1, loss=0.000521]\n",
      "Epoch 22: 100%|██████████| 2/2 [00:00<00:00, 13.43batch/s, accuracy=1, loss=0.000361]\n",
      "Epoch 23: 100%|██████████| 2/2 [00:00<00:00, 12.11batch/s, accuracy=1, loss=0.000299]\n",
      "Epoch 24: 100%|██████████| 2/2 [00:00<00:00, 13.43batch/s, accuracy=1, loss=0.000242]\n",
      "Epoch 25: 100%|██████████| 2/2 [00:00<00:00, 12.56batch/s, accuracy=1, loss=0.000224]\n",
      "Epoch 26: 100%|██████████| 2/2 [00:00<00:00, 12.45batch/s, accuracy=1, loss=0.000218]\n",
      "Epoch 27: 100%|██████████| 2/2 [00:00<00:00, 13.15batch/s, accuracy=1, loss=0.000205]\n",
      "Epoch 28: 100%|██████████| 2/2 [00:00<00:00, 12.81batch/s, accuracy=1, loss=0.000186]\n",
      "Epoch 29: 100%|██████████| 2/2 [00:00<00:00, 12.81batch/s, accuracy=1, loss=0.000182]\n",
      "Epoch 30: 100%|██████████| 2/2 [00:00<00:00, 12.04batch/s, accuracy=1, loss=0.00017]\n"
     ]
    },
    {
     "name": "stdout",
     "output_type": "stream",
     "text": [
      "Epoch 30\n",
      "lr:  0.0010543174757085927\n",
      "-------------------------\n",
      "Train set: Avg. loss: 0.0002, Balanced Accuracy: 0.0833333358168602 (8%)\n",
      "Test set: Avg. loss: 0.2207, Balanced Accuracy: 0.0364583320915699 (4%)\n",
      "-------------------------\n"
     ]
    },
    {
     "name": "stderr",
     "output_type": "stream",
     "text": [
      "Epoch 31: 100%|██████████| 2/2 [00:00<00:00, 14.02batch/s, accuracy=1, loss=0.000159]\n",
      "Epoch 32: 100%|██████████| 2/2 [00:00<00:00, 12.76batch/s, accuracy=1, loss=0.000151]\n",
      "Epoch 33: 100%|██████████| 2/2 [00:00<00:00, 12.39batch/s, accuracy=1, loss=0.000146]\n",
      "Epoch 34: 100%|██████████| 2/2 [00:00<00:00, 11.96batch/s, accuracy=1, loss=0.000137]\n",
      "Epoch 35: 100%|██████████| 2/2 [00:00<00:00, 13.48batch/s, accuracy=1, loss=0.000133]\n",
      "Epoch 36: 100%|██████████| 2/2 [00:00<00:00, 12.78batch/s, accuracy=1, loss=0.000134]\n",
      "Epoch 37: 100%|██████████| 2/2 [00:00<00:00, 12.51batch/s, accuracy=1, loss=0.000127]\n",
      "Epoch 38: 100%|██████████| 2/2 [00:00<00:00, 13.04batch/s, accuracy=1, loss=0.000128]\n",
      "Epoch 39: 100%|██████████| 2/2 [00:00<00:00, 12.96batch/s, accuracy=1, loss=0.000124]\n",
      "Epoch 40: 100%|██████████| 2/2 [00:00<00:00, 13.21batch/s, accuracy=1, loss=0.000126]"
     ]
    },
    {
     "name": "stdout",
     "output_type": "stream",
     "text": [
      "Epoch 40\n",
      "lr:  0.0005102710043928936\n",
      "-------------------------\n"
     ]
    },
    {
     "name": "stderr",
     "output_type": "stream",
     "text": [
      "\n"
     ]
    },
    {
     "name": "stdout",
     "output_type": "stream",
     "text": [
      "Train set: Avg. loss: 0.0001, Balanced Accuracy: 0.0833333358168602 (8%)\n",
      "Test set: Avg. loss: 0.2300, Balanced Accuracy: 0.0364583320915699 (4%)\n",
      "-------------------------\n"
     ]
    },
    {
     "name": "stderr",
     "output_type": "stream",
     "text": [
      "Epoch 41: 100%|██████████| 2/2 [00:00<00:00, 13.15batch/s, accuracy=1, loss=0.00012]\n",
      "Epoch 42: 100%|██████████| 2/2 [00:00<00:00, 12.39batch/s, accuracy=1, loss=0.000121]\n",
      "Epoch 43: 100%|██████████| 2/2 [00:00<00:00, 12.49batch/s, accuracy=1, loss=0.000116]\n",
      "Epoch 44: 100%|██████████| 2/2 [00:00<00:00, 13.70batch/s, accuracy=1, loss=0.000118]\n",
      "Epoch 45: 100%|██████████| 2/2 [00:00<00:00, 14.58batch/s, accuracy=1, loss=0.000115]\n",
      "Epoch 46: 100%|██████████| 2/2 [00:00<00:00, 12.55batch/s, accuracy=1, loss=0.000117]\n",
      "Epoch 47: 100%|██████████| 2/2 [00:00<00:00, 13.25batch/s, accuracy=1, loss=0.000113]\n",
      "Epoch 48: 100%|██████████| 2/2 [00:00<00:00, 14.20batch/s, accuracy=1, loss=0.000113]\n",
      "Epoch 49: 100%|██████████| 2/2 [00:00<00:00, 14.05batch/s, accuracy=1, loss=0.00011]\n",
      "Epoch 50: 100%|██████████| 2/2 [00:00<00:00, 12.72batch/s, accuracy=1, loss=0.00011]\n"
     ]
    },
    {
     "name": "stdout",
     "output_type": "stream",
     "text": [
      "Epoch 50\n",
      "lr:  0.00024696213799276797\n",
      "-------------------------\n",
      "Train set: Avg. loss: 0.0001, Balanced Accuracy: 0.0833333358168602 (8%)\n",
      "Test set: Avg. loss: 0.2333, Balanced Accuracy: 0.0364583320915699 (4%)\n",
      "-------------------------\n"
     ]
    },
    {
     "name": "stderr",
     "output_type": "stream",
     "text": [
      "Epoch 51: 100%|██████████| 2/2 [00:00<00:00, 14.36batch/s, accuracy=1, loss=0.000116]\n",
      "Epoch 52: 100%|██████████| 2/2 [00:00<00:00, 13.58batch/s, accuracy=1, loss=0.000107]\n",
      "Epoch 53: 100%|██████████| 2/2 [00:00<00:00, 13.83batch/s, accuracy=1, loss=0.000106]\n",
      "Epoch 54: 100%|██████████| 2/2 [00:00<00:00, 13.91batch/s, accuracy=1, loss=0.000108]\n",
      "Epoch 55: 100%|██████████| 2/2 [00:00<00:00, 13.52batch/s, accuracy=1, loss=0.000106]\n",
      "Epoch 56: 100%|██████████| 2/2 [00:00<00:00, 13.56batch/s, accuracy=1, loss=0.000104]\n",
      "Epoch 57: 100%|██████████| 2/2 [00:00<00:00, 13.33batch/s, accuracy=1, loss=0.000106]\n",
      "Epoch 58: 100%|██████████| 2/2 [00:00<00:00, 14.03batch/s, accuracy=1, loss=0.000107]\n",
      "Epoch 59: 100%|██████████| 2/2 [00:00<00:00, 14.35batch/s, accuracy=1, loss=0.000106]\n",
      "Epoch 60: 100%|██████████| 2/2 [00:00<00:00, 14.95batch/s, accuracy=1, loss=0.000109]\n"
     ]
    },
    {
     "name": "stdout",
     "output_type": "stream",
     "text": [
      "Epoch 60\n",
      "lr:  0.00011952530533167087\n",
      "-------------------------\n",
      "Train set: Avg. loss: 0.0001, Balanced Accuracy: 0.0833333358168602 (8%)\n",
      "Test set: Avg. loss: 0.2347, Balanced Accuracy: 0.0364583320915699 (4%)\n",
      "-------------------------\n"
     ]
    },
    {
     "name": "stderr",
     "output_type": "stream",
     "text": [
      "Epoch 61: 100%|██████████| 2/2 [00:00<00:00, 13.55batch/s, accuracy=1, loss=0.000106]\n",
      "Epoch 62: 100%|██████████| 2/2 [00:00<00:00, 13.18batch/s, accuracy=1, loss=0.000104]\n",
      "Epoch 63: 100%|██████████| 2/2 [00:00<00:00, 13.86batch/s, accuracy=1, loss=0.000106]\n",
      "Epoch 64: 100%|██████████| 2/2 [00:00<00:00, 13.74batch/s, accuracy=1, loss=0.000107]\n",
      "Epoch 65: 100%|██████████| 2/2 [00:00<00:00, 13.89batch/s, accuracy=1, loss=0.000108]\n",
      "Epoch 66: 100%|██████████| 2/2 [00:00<00:00, 13.83batch/s, accuracy=1, loss=0.000108]\n",
      "Epoch 67: 100%|██████████| 2/2 [00:00<00:00, 13.95batch/s, accuracy=1, loss=0.000104]\n",
      "Epoch 68: 100%|██████████| 2/2 [00:00<00:00, 14.07batch/s, accuracy=1, loss=0.000101]\n",
      "Epoch 69: 100%|██████████| 2/2 [00:00<00:00, 13.49batch/s, accuracy=1, loss=0.000105]\n",
      "Epoch 70: 100%|██████████| 2/2 [00:00<00:00, 13.74batch/s, accuracy=1, loss=0.000105]"
     ]
    },
    {
     "name": "stdout",
     "output_type": "stream",
     "text": [
      "Epoch 70\n",
      "lr:  5.784813304073156e-05\n",
      "-------------------------\n"
     ]
    },
    {
     "name": "stderr",
     "output_type": "stream",
     "text": [
      "\n"
     ]
    },
    {
     "name": "stdout",
     "output_type": "stream",
     "text": [
      "Train set: Avg. loss: 0.0001, Balanced Accuracy: 0.0833333358168602 (8%)\n",
      "Test set: Avg. loss: 0.2354, Balanced Accuracy: 0.0364583320915699 (4%)\n",
      "-------------------------\n"
     ]
    },
    {
     "name": "stderr",
     "output_type": "stream",
     "text": [
      "Epoch 71: 100%|██████████| 2/2 [00:00<00:00, 13.23batch/s, accuracy=1, loss=0.0001]\n",
      "Epoch 72: 100%|██████████| 2/2 [00:00<00:00, 12.96batch/s, accuracy=1, loss=0.000105]\n",
      "Epoch 73: 100%|██████████| 2/2 [00:00<00:00, 12.90batch/s, accuracy=1, loss=0.000102]\n",
      "Epoch 74: 100%|██████████| 2/2 [00:00<00:00, 12.65batch/s, accuracy=1, loss=0.000107]\n",
      "Epoch 75: 100%|██████████| 2/2 [00:00<00:00, 11.97batch/s, accuracy=1, loss=0.000104]\n",
      "Epoch 76: 100%|██████████| 2/2 [00:00<00:00, 11.41batch/s, accuracy=1, loss=0.000107]\n",
      "Epoch 77: 100%|██████████| 2/2 [00:00<00:00, 12.28batch/s, accuracy=1, loss=0.000106]\n",
      "Epoch 78: 100%|██████████| 2/2 [00:00<00:00, 12.91batch/s, accuracy=1, loss=0.000105]\n",
      "Epoch 79: 100%|██████████| 2/2 [00:00<00:00, 13.14batch/s, accuracy=1, loss=0.000109]\n",
      "Epoch 80: 100%|██████████| 2/2 [00:00<00:00, 13.17batch/s, accuracy=1, loss=0.000107]"
     ]
    },
    {
     "name": "stdout",
     "output_type": "stream",
     "text": [
      "Epoch 80\n",
      "lr:  2.7997472895067983e-05\n",
      "-------------------------\n"
     ]
    },
    {
     "name": "stderr",
     "output_type": "stream",
     "text": [
      "\n"
     ]
    },
    {
     "name": "stdout",
     "output_type": "stream",
     "text": [
      "Train set: Avg. loss: 0.0001, Balanced Accuracy: 0.0833333358168602 (8%)\n",
      "Test set: Avg. loss: 0.2357, Balanced Accuracy: 0.0364583320915699 (4%)\n",
      "-------------------------\n"
     ]
    },
    {
     "name": "stderr",
     "output_type": "stream",
     "text": [
      "Epoch 81: 100%|██████████| 2/2 [00:00<00:00, 13.38batch/s, accuracy=1, loss=0.000105]\n",
      "Epoch 82: 100%|██████████| 2/2 [00:00<00:00, 12.50batch/s, accuracy=1, loss=0.000102]\n",
      "Epoch 83: 100%|██████████| 2/2 [00:00<00:00, 12.37batch/s, accuracy=1, loss=0.0001]\n",
      "Epoch 84: 100%|██████████| 2/2 [00:00<00:00, 13.26batch/s, accuracy=1, loss=9.94e-5]\n",
      "Epoch 85: 100%|██████████| 2/2 [00:00<00:00, 13.07batch/s, accuracy=1, loss=0.000101]\n",
      "Epoch 86: 100%|██████████| 2/2 [00:00<00:00, 14.28batch/s, accuracy=1, loss=0.000101]\n",
      "Epoch 87: 100%|██████████| 2/2 [00:00<00:00, 14.45batch/s, accuracy=1, loss=0.000102]\n",
      "Epoch 88: 100%|██████████| 2/2 [00:00<00:00, 14.72batch/s, accuracy=1, loss=0.000102]\n",
      "Epoch 89: 100%|██████████| 2/2 [00:00<00:00, 13.23batch/s, accuracy=1, loss=0.000102]\n",
      "Epoch 90: 100%|██████████| 2/2 [00:00<00:00, 12.26batch/s, accuracy=1, loss=0.000107]"
     ]
    },
    {
     "name": "stdout",
     "output_type": "stream",
     "text": [
      "Epoch 90\n",
      "lr:  1.3550281526944739e-05\n",
      "-------------------------\n"
     ]
    },
    {
     "name": "stderr",
     "output_type": "stream",
     "text": [
      "\n"
     ]
    },
    {
     "name": "stdout",
     "output_type": "stream",
     "text": [
      "Train set: Avg. loss: 0.0001, Balanced Accuracy: 0.0833333358168602 (8%)\n",
      "Test set: Avg. loss: 0.2359, Balanced Accuracy: 0.0364583320915699 (4%)\n",
      "-------------------------\n"
     ]
    },
    {
     "name": "stderr",
     "output_type": "stream",
     "text": [
      "Epoch 91: 100%|██████████| 2/2 [00:00<00:00, 13.62batch/s, accuracy=1, loss=0.000101]\n",
      "Epoch 92: 100%|██████████| 2/2 [00:00<00:00, 14.14batch/s, accuracy=1, loss=0.000103]\n",
      "Epoch 93: 100%|██████████| 2/2 [00:00<00:00, 12.43batch/s, accuracy=1, loss=9.92e-5]\n",
      "Epoch 94: 100%|██████████| 2/2 [00:00<00:00, 12.62batch/s, accuracy=1, loss=0.000104]\n",
      "Epoch 95: 100%|██████████| 2/2 [00:00<00:00, 13.88batch/s, accuracy=1, loss=9.95e-5]\n",
      "Epoch 96: 100%|██████████| 2/2 [00:00<00:00, 13.43batch/s, accuracy=1, loss=0.000102]\n",
      "Epoch 97: 100%|██████████| 2/2 [00:00<00:00, 14.84batch/s, accuracy=1, loss=0.000101]\n",
      "Epoch 98: 100%|██████████| 2/2 [00:00<00:00, 12.80batch/s, accuracy=1, loss=0.000104]\n",
      "Epoch 99: 100%|██████████| 2/2 [00:00<00:00, 13.07batch/s, accuracy=1, loss=0.000104]\n"
     ]
    }
   ],
   "source": [
    "device = torch.device('cuda' if torch.cuda.is_available() else 'cpu')\n",
    "criterion = torch.nn.CrossEntropyLoss()\n",
    "model = EEGNet(chunk_size=2001,\n",
    "               num_electrodes=12,\n",
    "               dropout=0,\n",
    "               kernel_1=64,\n",
    "               kernel_2=16,\n",
    "               F1=8,\n",
    "               F2=16,\n",
    "               D=2,\n",
    "               num_classes=2)\n",
    "model.to(device)\n",
    "optimizer = torch.optim.Adam(model.parameters(), lr=0.01)\n",
    "scheduler = torch.optim.lr_scheduler.MultiplicativeLR(optimizer, lr_lambda=lambda epoch: 0.93)\n",
    "training.train_model(model, trainloader, testloader, device, criterion, 100, optimizer, scheduler)"
   ]
  },
  {
   "cell_type": "markdown",
   "metadata": {},
   "source": [
    "## Graph Analysis"
   ]
  },
  {
   "cell_type": "code",
   "execution_count": 88,
   "metadata": {},
   "outputs": [
    {
     "name": "stdout",
     "output_type": "stream",
     "text": [
      "Error in file:  /network/lustre/iss02/aramis/projects/cracknetworks/sub-14/ses-02/EEG/Test-[2022.04.28-16.18.42].edf\n"
     ]
    }
   ],
   "source": [
    "list_name_channels = [\"CP1\",\"CP3\",\"CP5\",\"C1\",\"C3\",\"C5\",\"C2\",\"CP2\",\"Cz\",\"FCz\",\"C4\",\"CP4\"]\n",
    "ch_names = raw_obj.info['ch_names']\n",
    "list_idx_channels = [ch_names.index(name) for name in list_name_channels]\n",
    "#list_idx_channels = list(range(0, 64))\n",
    "\n",
    "task_type = \"imaginary_left/right\"\n",
    "folder_path = \"/network/lustre/iss02/aramis/projects/cracknetworks/\"\n",
    "\n",
    "num_subjects = [14]\n",
    "num_train_sessions = [1,2]\n",
    "num_test_sessions = [3]\n",
    "num_runs = []\n",
    "list_labels = [5,6]\n",
    "\n",
    "torch_trainset = dataset.EEG_PSD_Dataset_Multi_Subject(folder_path, num_subjects, num_train_sessions, num_runs, list_idx_channels, list_labels, data=\"bci\", band=True, type_=\"torch\")\n",
    "torch_testset = dataset.EEG_PSD_Dataset_Multi_Subject(folder_path, num_subjects, num_test_sessions, num_runs, list_idx_channels, list_labels, data=\"bci\", band=True, type_=\"torch\")\n",
    "trainloader = torch.utils.data.DataLoader(torch_trainset, batch_size=16, shuffle=True, num_workers=2)\n",
    "testloader = torch.utils.data.DataLoader(torch_testset, batch_size=16, shuffle=True, num_workers=2)"
   ]
  },
  {
   "cell_type": "code",
   "execution_count": 102,
   "metadata": {},
   "outputs": [
    {
     "name": "stderr",
     "output_type": "stream",
     "text": [
      "Epoch 0:   0%|          | 0/18 [00:00<?, ?batch/s]\n"
     ]
    },
    {
     "ename": "ValueError",
     "evalue": "expected 2D or 3D input (got 4D input)",
     "output_type": "error",
     "traceback": [
      "\u001b[0;31m---------------------------------------------------------------------------\u001b[0m",
      "\u001b[0;31mValueError\u001b[0m                                Traceback (most recent call last)",
      "Cell \u001b[0;32mIn[102], line 7\u001b[0m\n\u001b[1;32m      5\u001b[0m optimizer \u001b[38;5;241m=\u001b[39m torch\u001b[38;5;241m.\u001b[39moptim\u001b[38;5;241m.\u001b[39mAdam(model\u001b[38;5;241m.\u001b[39mparameters(), lr\u001b[38;5;241m=\u001b[39m\u001b[38;5;241m0.01\u001b[39m)\n\u001b[1;32m      6\u001b[0m scheduler \u001b[38;5;241m=\u001b[39m torch\u001b[38;5;241m.\u001b[39moptim\u001b[38;5;241m.\u001b[39mlr_scheduler\u001b[38;5;241m.\u001b[39mMultiplicativeLR(optimizer, lr_lambda\u001b[38;5;241m=\u001b[39m\u001b[38;5;28;01mlambda\u001b[39;00m epoch: \u001b[38;5;241m0.98\u001b[39m)\n\u001b[0;32m----> 7\u001b[0m \u001b[43mtraining\u001b[49m\u001b[38;5;241;43m.\u001b[39;49m\u001b[43mtrain_model\u001b[49m\u001b[43m(\u001b[49m\u001b[43mmodel\u001b[49m\u001b[43m,\u001b[49m\u001b[43m \u001b[49m\u001b[43mtrainloader\u001b[49m\u001b[43m,\u001b[49m\u001b[43m \u001b[49m\u001b[43mtestloader\u001b[49m\u001b[43m,\u001b[49m\u001b[43m \u001b[49m\u001b[43mdevice\u001b[49m\u001b[43m,\u001b[49m\u001b[43m \u001b[49m\u001b[43mcriterion\u001b[49m\u001b[43m,\u001b[49m\u001b[43m \u001b[49m\u001b[38;5;241;43m100\u001b[39;49m\u001b[43m,\u001b[49m\u001b[43m \u001b[49m\u001b[43moptimizer\u001b[49m\u001b[43m,\u001b[49m\u001b[43m \u001b[49m\u001b[43mscheduler\u001b[49m\u001b[43m)\u001b[49m\n",
      "File \u001b[0;32m~/Code/eeg_project_package/training.py:21\u001b[0m, in \u001b[0;36mtrain_model\u001b[0;34m(model, trainloader, testloader, device, criterion, epochs, optimizer, scheduler, print_epoch)\u001b[0m\n\u001b[1;32m     19\u001b[0m X \u001b[38;5;241m=\u001b[39m X\u001b[38;5;241m.\u001b[39mto(device)\n\u001b[1;32m     20\u001b[0m y \u001b[38;5;241m=\u001b[39m y\u001b[38;5;241m.\u001b[39mto(device)\n\u001b[0;32m---> 21\u001b[0m outputs \u001b[38;5;241m=\u001b[39m \u001b[43mmodel\u001b[49m\u001b[43m(\u001b[49m\u001b[43mX\u001b[49m\u001b[43m)\u001b[49m\n\u001b[1;32m     22\u001b[0m loss \u001b[38;5;241m=\u001b[39m criterion(outputs,y)\n\u001b[1;32m     24\u001b[0m optimizer\u001b[38;5;241m.\u001b[39mzero_grad()\n",
      "File \u001b[0;32m~/Code/eeg_env/lib/python3.8/site-packages/torch/nn/modules/module.py:1532\u001b[0m, in \u001b[0;36mModule._wrapped_call_impl\u001b[0;34m(self, *args, **kwargs)\u001b[0m\n\u001b[1;32m   1530\u001b[0m     \u001b[38;5;28;01mreturn\u001b[39;00m \u001b[38;5;28mself\u001b[39m\u001b[38;5;241m.\u001b[39m_compiled_call_impl(\u001b[38;5;241m*\u001b[39margs, \u001b[38;5;241m*\u001b[39m\u001b[38;5;241m*\u001b[39mkwargs)  \u001b[38;5;66;03m# type: ignore[misc]\u001b[39;00m\n\u001b[1;32m   1531\u001b[0m \u001b[38;5;28;01melse\u001b[39;00m:\n\u001b[0;32m-> 1532\u001b[0m     \u001b[38;5;28;01mreturn\u001b[39;00m \u001b[38;5;28;43mself\u001b[39;49m\u001b[38;5;241;43m.\u001b[39;49m\u001b[43m_call_impl\u001b[49m\u001b[43m(\u001b[49m\u001b[38;5;241;43m*\u001b[39;49m\u001b[43margs\u001b[49m\u001b[43m,\u001b[49m\u001b[43m \u001b[49m\u001b[38;5;241;43m*\u001b[39;49m\u001b[38;5;241;43m*\u001b[39;49m\u001b[43mkwargs\u001b[49m\u001b[43m)\u001b[49m\n",
      "File \u001b[0;32m~/Code/eeg_env/lib/python3.8/site-packages/torch/nn/modules/module.py:1541\u001b[0m, in \u001b[0;36mModule._call_impl\u001b[0;34m(self, *args, **kwargs)\u001b[0m\n\u001b[1;32m   1536\u001b[0m \u001b[38;5;66;03m# If we don't have any hooks, we want to skip the rest of the logic in\u001b[39;00m\n\u001b[1;32m   1537\u001b[0m \u001b[38;5;66;03m# this function, and just call forward.\u001b[39;00m\n\u001b[1;32m   1538\u001b[0m \u001b[38;5;28;01mif\u001b[39;00m \u001b[38;5;129;01mnot\u001b[39;00m (\u001b[38;5;28mself\u001b[39m\u001b[38;5;241m.\u001b[39m_backward_hooks \u001b[38;5;129;01mor\u001b[39;00m \u001b[38;5;28mself\u001b[39m\u001b[38;5;241m.\u001b[39m_backward_pre_hooks \u001b[38;5;129;01mor\u001b[39;00m \u001b[38;5;28mself\u001b[39m\u001b[38;5;241m.\u001b[39m_forward_hooks \u001b[38;5;129;01mor\u001b[39;00m \u001b[38;5;28mself\u001b[39m\u001b[38;5;241m.\u001b[39m_forward_pre_hooks\n\u001b[1;32m   1539\u001b[0m         \u001b[38;5;129;01mor\u001b[39;00m _global_backward_pre_hooks \u001b[38;5;129;01mor\u001b[39;00m _global_backward_hooks\n\u001b[1;32m   1540\u001b[0m         \u001b[38;5;129;01mor\u001b[39;00m _global_forward_hooks \u001b[38;5;129;01mor\u001b[39;00m _global_forward_pre_hooks):\n\u001b[0;32m-> 1541\u001b[0m     \u001b[38;5;28;01mreturn\u001b[39;00m \u001b[43mforward_call\u001b[49m\u001b[43m(\u001b[49m\u001b[38;5;241;43m*\u001b[39;49m\u001b[43margs\u001b[49m\u001b[43m,\u001b[49m\u001b[43m \u001b[49m\u001b[38;5;241;43m*\u001b[39;49m\u001b[38;5;241;43m*\u001b[39;49m\u001b[43mkwargs\u001b[49m\u001b[43m)\u001b[49m\n\u001b[1;32m   1543\u001b[0m \u001b[38;5;28;01mtry\u001b[39;00m:\n\u001b[1;32m   1544\u001b[0m     result \u001b[38;5;241m=\u001b[39m \u001b[38;5;28;01mNone\u001b[39;00m\n",
      "File \u001b[0;32m~/Code/eeg_env/lib/python3.8/site-packages/torcheeg/models/gnn/dgcnn.py:161\u001b[0m, in \u001b[0;36mDGCNN.forward\u001b[0;34m(self, x)\u001b[0m\n\u001b[1;32m    153\u001b[0m \u001b[38;5;28;01mdef\u001b[39;00m \u001b[38;5;21mforward\u001b[39m(\u001b[38;5;28mself\u001b[39m, x: torch\u001b[38;5;241m.\u001b[39mTensor) \u001b[38;5;241m-\u001b[39m\u001b[38;5;241m>\u001b[39m torch\u001b[38;5;241m.\u001b[39mTensor:\n\u001b[1;32m    154\u001b[0m \u001b[38;5;250m    \u001b[39m\u001b[38;5;124mr\u001b[39m\u001b[38;5;124;03m'''\u001b[39;00m\n\u001b[1;32m    155\u001b[0m \u001b[38;5;124;03m    Args:\u001b[39;00m\n\u001b[1;32m    156\u001b[0m \u001b[38;5;124;03m        x (torch.Tensor): EEG signal representation, the ideal input shape is :obj:`[n, 62, 5]`. Here, :obj:`n` corresponds to the batch size, :obj:`62` corresponds to :obj:`num_electrodes`, and :obj:`5` corresponds to :obj:`in_channels`.\u001b[39;00m\n\u001b[0;32m   (...)\u001b[0m\n\u001b[1;32m    159\u001b[0m \u001b[38;5;124;03m        torch.Tensor[number of sample, number of classes]: the predicted probability that the samples belong to the classes.\u001b[39;00m\n\u001b[1;32m    160\u001b[0m \u001b[38;5;124;03m    '''\u001b[39;00m\n\u001b[0;32m--> 161\u001b[0m     x \u001b[38;5;241m=\u001b[39m \u001b[38;5;28;43mself\u001b[39;49m\u001b[38;5;241;43m.\u001b[39;49m\u001b[43mBN1\u001b[49m\u001b[43m(\u001b[49m\u001b[43mx\u001b[49m\u001b[38;5;241;43m.\u001b[39;49m\u001b[43mtranspose\u001b[49m\u001b[43m(\u001b[49m\u001b[38;5;241;43m1\u001b[39;49m\u001b[43m,\u001b[49m\u001b[43m \u001b[49m\u001b[38;5;241;43m2\u001b[39;49m\u001b[43m)\u001b[49m\u001b[43m)\u001b[49m\u001b[38;5;241m.\u001b[39mtranspose(\u001b[38;5;241m1\u001b[39m, \u001b[38;5;241m2\u001b[39m)\n\u001b[1;32m    162\u001b[0m     L \u001b[38;5;241m=\u001b[39m normalize_A(\u001b[38;5;28mself\u001b[39m\u001b[38;5;241m.\u001b[39mA)\n\u001b[1;32m    163\u001b[0m     result \u001b[38;5;241m=\u001b[39m \u001b[38;5;28mself\u001b[39m\u001b[38;5;241m.\u001b[39mlayer1(x, L)\n",
      "File \u001b[0;32m~/Code/eeg_env/lib/python3.8/site-packages/torch/nn/modules/module.py:1532\u001b[0m, in \u001b[0;36mModule._wrapped_call_impl\u001b[0;34m(self, *args, **kwargs)\u001b[0m\n\u001b[1;32m   1530\u001b[0m     \u001b[38;5;28;01mreturn\u001b[39;00m \u001b[38;5;28mself\u001b[39m\u001b[38;5;241m.\u001b[39m_compiled_call_impl(\u001b[38;5;241m*\u001b[39margs, \u001b[38;5;241m*\u001b[39m\u001b[38;5;241m*\u001b[39mkwargs)  \u001b[38;5;66;03m# type: ignore[misc]\u001b[39;00m\n\u001b[1;32m   1531\u001b[0m \u001b[38;5;28;01melse\u001b[39;00m:\n\u001b[0;32m-> 1532\u001b[0m     \u001b[38;5;28;01mreturn\u001b[39;00m \u001b[38;5;28;43mself\u001b[39;49m\u001b[38;5;241;43m.\u001b[39;49m\u001b[43m_call_impl\u001b[49m\u001b[43m(\u001b[49m\u001b[38;5;241;43m*\u001b[39;49m\u001b[43margs\u001b[49m\u001b[43m,\u001b[49m\u001b[43m \u001b[49m\u001b[38;5;241;43m*\u001b[39;49m\u001b[38;5;241;43m*\u001b[39;49m\u001b[43mkwargs\u001b[49m\u001b[43m)\u001b[49m\n",
      "File \u001b[0;32m~/Code/eeg_env/lib/python3.8/site-packages/torch/nn/modules/module.py:1541\u001b[0m, in \u001b[0;36mModule._call_impl\u001b[0;34m(self, *args, **kwargs)\u001b[0m\n\u001b[1;32m   1536\u001b[0m \u001b[38;5;66;03m# If we don't have any hooks, we want to skip the rest of the logic in\u001b[39;00m\n\u001b[1;32m   1537\u001b[0m \u001b[38;5;66;03m# this function, and just call forward.\u001b[39;00m\n\u001b[1;32m   1538\u001b[0m \u001b[38;5;28;01mif\u001b[39;00m \u001b[38;5;129;01mnot\u001b[39;00m (\u001b[38;5;28mself\u001b[39m\u001b[38;5;241m.\u001b[39m_backward_hooks \u001b[38;5;129;01mor\u001b[39;00m \u001b[38;5;28mself\u001b[39m\u001b[38;5;241m.\u001b[39m_backward_pre_hooks \u001b[38;5;129;01mor\u001b[39;00m \u001b[38;5;28mself\u001b[39m\u001b[38;5;241m.\u001b[39m_forward_hooks \u001b[38;5;129;01mor\u001b[39;00m \u001b[38;5;28mself\u001b[39m\u001b[38;5;241m.\u001b[39m_forward_pre_hooks\n\u001b[1;32m   1539\u001b[0m         \u001b[38;5;129;01mor\u001b[39;00m _global_backward_pre_hooks \u001b[38;5;129;01mor\u001b[39;00m _global_backward_hooks\n\u001b[1;32m   1540\u001b[0m         \u001b[38;5;129;01mor\u001b[39;00m _global_forward_hooks \u001b[38;5;129;01mor\u001b[39;00m _global_forward_pre_hooks):\n\u001b[0;32m-> 1541\u001b[0m     \u001b[38;5;28;01mreturn\u001b[39;00m \u001b[43mforward_call\u001b[49m\u001b[43m(\u001b[49m\u001b[38;5;241;43m*\u001b[39;49m\u001b[43margs\u001b[49m\u001b[43m,\u001b[49m\u001b[43m \u001b[49m\u001b[38;5;241;43m*\u001b[39;49m\u001b[38;5;241;43m*\u001b[39;49m\u001b[43mkwargs\u001b[49m\u001b[43m)\u001b[49m\n\u001b[1;32m   1543\u001b[0m \u001b[38;5;28;01mtry\u001b[39;00m:\n\u001b[1;32m   1544\u001b[0m     result \u001b[38;5;241m=\u001b[39m \u001b[38;5;28;01mNone\u001b[39;00m\n",
      "File \u001b[0;32m~/Code/eeg_env/lib/python3.8/site-packages/torch/nn/modules/batchnorm.py:142\u001b[0m, in \u001b[0;36m_BatchNorm.forward\u001b[0;34m(self, input)\u001b[0m\n\u001b[1;32m    141\u001b[0m \u001b[38;5;28;01mdef\u001b[39;00m \u001b[38;5;21mforward\u001b[39m(\u001b[38;5;28mself\u001b[39m, \u001b[38;5;28minput\u001b[39m: Tensor) \u001b[38;5;241m-\u001b[39m\u001b[38;5;241m>\u001b[39m Tensor:\n\u001b[0;32m--> 142\u001b[0m     \u001b[38;5;28;43mself\u001b[39;49m\u001b[38;5;241;43m.\u001b[39;49m\u001b[43m_check_input_dim\u001b[49m\u001b[43m(\u001b[49m\u001b[38;5;28;43minput\u001b[39;49m\u001b[43m)\u001b[49m\n\u001b[1;32m    144\u001b[0m     \u001b[38;5;66;03m# exponential_average_factor is set to self.momentum\u001b[39;00m\n\u001b[1;32m    145\u001b[0m     \u001b[38;5;66;03m# (when it is available) only so that it gets updated\u001b[39;00m\n\u001b[1;32m    146\u001b[0m     \u001b[38;5;66;03m# in ONNX graph when this node is exported to ONNX.\u001b[39;00m\n\u001b[1;32m    147\u001b[0m     \u001b[38;5;28;01mif\u001b[39;00m \u001b[38;5;28mself\u001b[39m\u001b[38;5;241m.\u001b[39mmomentum \u001b[38;5;129;01mis\u001b[39;00m \u001b[38;5;28;01mNone\u001b[39;00m:\n",
      "File \u001b[0;32m~/Code/eeg_env/lib/python3.8/site-packages/torch/nn/modules/batchnorm.py:310\u001b[0m, in \u001b[0;36mBatchNorm1d._check_input_dim\u001b[0;34m(self, input)\u001b[0m\n\u001b[1;32m    308\u001b[0m \u001b[38;5;28;01mdef\u001b[39;00m \u001b[38;5;21m_check_input_dim\u001b[39m(\u001b[38;5;28mself\u001b[39m, \u001b[38;5;28minput\u001b[39m):\n\u001b[1;32m    309\u001b[0m     \u001b[38;5;28;01mif\u001b[39;00m \u001b[38;5;28minput\u001b[39m\u001b[38;5;241m.\u001b[39mdim() \u001b[38;5;241m!=\u001b[39m \u001b[38;5;241m2\u001b[39m \u001b[38;5;129;01mand\u001b[39;00m \u001b[38;5;28minput\u001b[39m\u001b[38;5;241m.\u001b[39mdim() \u001b[38;5;241m!=\u001b[39m \u001b[38;5;241m3\u001b[39m:\n\u001b[0;32m--> 310\u001b[0m         \u001b[38;5;28;01mraise\u001b[39;00m \u001b[38;5;167;01mValueError\u001b[39;00m(\n\u001b[1;32m    311\u001b[0m             \u001b[38;5;124mf\u001b[39m\u001b[38;5;124m\"\u001b[39m\u001b[38;5;124mexpected 2D or 3D input (got \u001b[39m\u001b[38;5;132;01m{\u001b[39;00m\u001b[38;5;28minput\u001b[39m\u001b[38;5;241m.\u001b[39mdim()\u001b[38;5;132;01m}\u001b[39;00m\u001b[38;5;124mD input)\u001b[39m\u001b[38;5;124m\"\u001b[39m\n\u001b[1;32m    312\u001b[0m         )\n",
      "\u001b[0;31mValueError\u001b[0m: expected 2D or 3D input (got 4D input)"
     ]
    }
   ],
   "source": [
    "device = torch.device('cuda' if torch.cuda.is_available() else 'cpu')\n",
    "criterion = torch.nn.CrossEntropyLoss()\n",
    "model = DGCNN(in_channels=5, num_electrodes=12, hid_channels=24, num_layers=3, num_classes=2)\n",
    "model.to(device)\n",
    "optimizer = torch.optim.Adam(model.parameters(), lr=0.01)\n",
    "scheduler = torch.optim.lr_scheduler.MultiplicativeLR(optimizer, lr_lambda=lambda epoch: 0.98)\n",
    "training.train_model(model, trainloader, testloader, device, criterion, 100, optimizer, scheduler)"
   ]
  }
 ],
 "metadata": {
  "kernelspec": {
   "display_name": "deep_env",
   "language": "python",
   "name": "python3"
  },
  "language_info": {
   "codemirror_mode": {
    "name": "ipython",
    "version": 3
   },
   "file_extension": ".py",
   "mimetype": "text/x-python",
   "name": "python",
   "nbconvert_exporter": "python",
   "pygments_lexer": "ipython3",
   "version": "3.8.10"
  }
 },
 "nbformat": 4,
 "nbformat_minor": 2
}
